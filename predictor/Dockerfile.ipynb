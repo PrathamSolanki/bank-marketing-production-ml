{
 "cells": [
  {
   "cell_type": "code",
   "execution_count": null,
   "id": "29a201dd-1493-4232-8282-511b65f8b573",
   "metadata": {},
   "outputs": [],
   "source": [
    "import os\n",
    "from google.cloud.aiplatform.prediction import LocalModel\n",
    "from bank_marketing__xgboost_v0__predictor import BankMarketingXGBoostPredictor"
   ]
  },
  {
   "cell_type": "code",
   "execution_count": null,
   "id": "672dd0cf-1345-4904-80f2-e57a07b24adf",
   "metadata": {},
   "outputs": [],
   "source": [
    "LOCAL_SOURCE_DIR = os.getcwd()\n",
    "REGION = <your project region>\n",
    "PROJECT_ID = <your project id>\n",
    "REPOSITORY = <your container images artifact repository name>\n",
    "IMAGE = <name to give for your predictor container image>\n",
    "TAG = <tag to give for your predictor container image>"
   ]
  },
  {
   "cell_type": "code",
   "execution_count": null,
   "id": "b35df7b1-6e1f-4665-a7d4-3a058b4be9d6",
   "metadata": {},
   "outputs": [],
   "source": [
    "local_model = LocalModel.build_cpr_model(\n",
    "   LOCAL_SOURCE_DIR,\n",
    "   f\"{REGION}-docker.pkg.dev/{PROJECT_ID}/{REPOSITORY}/{IMAGE}:{TAG}\",\n",
    "   predictor=BankMarketingXGBoostPredictor,\n",
    "   requirements_path=os.path.join(LOCAL_SOURCE_DIR, \"requirements.txt\"),\n",
    ")"
   ]
  },
  {
   "cell_type": "code",
   "execution_count": null,
   "id": "4981a26e-d043-4358-b7e6-148146513a05",
   "metadata": {},
   "outputs": [],
   "source": [
    "local_model.get_serving_container_spec()"
   ]
  },
  {
   "cell_type": "code",
   "execution_count": null,
   "id": "ecf697b3-132d-4218-bc19-d5709a8f44a8",
   "metadata": {},
   "outputs": [],
   "source": [
    "CREDENTIALS_FILE = <full path to your credentials json>"
   ]
  },
  {
   "cell_type": "code",
   "execution_count": null,
   "id": "d870c627-a707-437e-84ae-8a3c34b4f859",
   "metadata": {},
   "outputs": [],
   "source": [
    "INPUT_FILE = 'example_payload.txt'"
   ]
  },
  {
   "cell_type": "code",
   "execution_count": null,
   "id": "4716471e-11ce-42c3-a7fc-d91379ffb113",
   "metadata": {},
   "outputs": [],
   "source": [
    "with local_model.deploy_to_local_endpoint(artifact_uri=<path on gcs bucket where the trained model artifact is stored>, credential_path=CREDENTIALS_FILE) as local_endpoint:\n",
    "    predict_response = local_endpoint.predict(request_file=INPUT_FILE, headers={\"Content-Type\": \"application/json\"})\n",
    "    \n",
    "    print(predict_response, predict_response.content)\n",
    "    \n",
    "    local_endpoint.print_container_logs()"
   ]
  },
  {
   "cell_type": "code",
   "execution_count": null,
   "id": "97d73eef-5f89-4b72-8358-9ee4828a9b91",
   "metadata": {
    "tags": []
   },
   "outputs": [],
   "source": [
    "local_model.push_image()"
   ]
  },
  {
   "cell_type": "code",
   "execution_count": null,
   "id": "055a1242-ca43-4f7b-8c62-47d7edfa44f4",
   "metadata": {},
   "outputs": [],
   "source": []
  }
 ],
 "metadata": {
  "environment": {
   "kernel": "python3",
   "name": "tf2-gpu.2-6.m111",
   "type": "gcloud",
   "uri": "gcr.io/deeplearning-platform-release/tf2-gpu.2-6:m111"
  },
  "kernelspec": {
   "display_name": "Python 3",
   "language": "python",
   "name": "python3"
  },
  "language_info": {
   "codemirror_mode": {
    "name": "ipython",
    "version": 3
   },
   "file_extension": ".py",
   "mimetype": "text/x-python",
   "name": "python",
   "nbconvert_exporter": "python",
   "pygments_lexer": "ipython3",
   "version": "3.9.17"
  }
 },
 "nbformat": 4,
 "nbformat_minor": 5
}
