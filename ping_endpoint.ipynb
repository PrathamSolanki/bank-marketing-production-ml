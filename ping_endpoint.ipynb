{
 "cells": [
  {
   "cell_type": "code",
   "execution_count": null,
   "id": "902c2631-208b-4908-8510-50aa10c697d7",
   "metadata": {
    "tags": []
   },
   "outputs": [],
   "source": [
    "!pip3 install google-cloud-aiplatform --upgrade --user"
   ]
  },
  {
   "cell_type": "code",
   "execution_count": null,
   "id": "65d4bc9a-f6cc-4db8-8f89-96754f9d7c2d",
   "metadata": {},
   "outputs": [],
   "source": [
    "from google.cloud import aiplatform"
   ]
  },
  {
   "cell_type": "code",
   "execution_count": null,
   "id": "79564fa9-8891-417c-ac68-3adcb4fa0572",
   "metadata": {},
   "outputs": [],
   "source": [
    "PROJECT_ID = <your project id>"
   ]
  },
  {
   "cell_type": "code",
   "execution_count": null,
   "id": "e315b00f-0c8f-4b5a-8a3c-b4498ec786d2",
   "metadata": {},
   "outputs": [],
   "source": [
    "REGION = <your project region>"
   ]
  },
  {
   "cell_type": "code",
   "execution_count": null,
   "id": "72a73d57-c53b-468f-aa78-ee15516f7bc4",
   "metadata": {},
   "outputs": [],
   "source": [
    "aiplatform.init(project=PROJECT_ID, location=REGION)"
   ]
  },
  {
   "cell_type": "code",
   "execution_count": null,
   "id": "3c64b289-bc84-432b-a227-9c55fe3bfdbe",
   "metadata": {},
   "outputs": [],
   "source": [
    "ENDPOINT_ID = <your endpoint name>"
   ]
  },
  {
   "cell_type": "code",
   "execution_count": null,
   "id": "96e8f842-e364-446c-b307-d0fed35669cb",
   "metadata": {},
   "outputs": [],
   "source": [
    "endpoint = aiplatform.Endpoint(\n",
    "    endpoint_name=f'projects/{PROJECT_ID}/locations/{REGION}/endpoints/{ENDPOINT_ID}'\n",
    ")"
   ]
  },
  {
   "cell_type": "code",
   "execution_count": null,
   "id": "7b7e4bbf-5681-4445-8695-b4543ebac258",
   "metadata": {},
   "outputs": [],
   "source": [
    "import json"
   ]
  },
  {
   "cell_type": "code",
   "execution_count": null,
   "id": "c8318bc9-bed0-42a2-bc37-03b893e0cba4",
   "metadata": {},
   "outputs": [],
   "source": [
    "with open('predictor/example_payload.txt') as f:\n",
    "    payload = json.load(f)"
   ]
  },
  {
   "cell_type": "code",
   "execution_count": null,
   "id": "f5598534-c944-4183-97cd-4f83030a4115",
   "metadata": {},
   "outputs": [],
   "source": [
    "endpoint.predict([payload])"
   ]
  },
  {
   "cell_type": "code",
   "execution_count": null,
   "id": "358d1c1e-3af4-475a-bf51-ce12867094c5",
   "metadata": {},
   "outputs": [],
   "source": []
  }
 ],
 "metadata": {
  "environment": {
   "kernel": "python3",
   "name": "tf2-gpu.2-6.m111",
   "type": "gcloud",
   "uri": "gcr.io/deeplearning-platform-release/tf2-gpu.2-6:m111"
  },
  "kernelspec": {
   "display_name": "Python 3",
   "language": "python",
   "name": "python3"
  },
  "language_info": {
   "codemirror_mode": {
    "name": "ipython",
    "version": 3
   },
   "file_extension": ".py",
   "mimetype": "text/x-python",
   "name": "python",
   "nbconvert_exporter": "python",
   "pygments_lexer": "ipython3",
   "version": "3.9.17"
  }
 },
 "nbformat": 4,
 "nbformat_minor": 5
}
